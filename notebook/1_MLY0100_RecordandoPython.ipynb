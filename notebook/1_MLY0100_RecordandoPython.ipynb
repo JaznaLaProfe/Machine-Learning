{
  "nbformat": 4,
  "nbformat_minor": 0,
  "metadata": {
    "colab": {
      "provenance": []
    },
    "kernelspec": {
      "name": "python3",
      "display_name": "Python 3"
    },
    "language_info": {
      "name": "python"
    }
  },
  "cells": [
    {
      "cell_type": "markdown",
      "source": [
        "# Recordando Python\n",
        "\n",
        "**Autor:** Jazna Meza Hidalgo\n",
        "\n",
        "**Correo Electrónico:** ja.meza@profesor.duoc.cl\n",
        "\n",
        "**Fecha de Creación:** Marzo de 2025\n",
        "\n",
        "**Versión:** 1.0  \n",
        "\n",
        "---\n",
        "\n",
        "## Descripción\n",
        "\n",
        "Este notebook permite recordar Python y su uso en Machine Learning.\n",
        "\n",
        "---\n",
        "\n",
        "## Requisitos de Software\n",
        "\n",
        "Este notebook fue desarrollado con Python 3.9. A continuación se listan las bibliotecas necesarias:\n",
        "\n",
        "- matplotlib (3.10.0)\n",
        "- numpy (1.26.4)\n",
        "- sympy (1.13.1)\n",
        "\n",
        "Para verificar la versión instalada ejecutar usando el siguiente comando, usando la librería de la cual quieres saber la versión:\n",
        "\n",
        "```bash\n",
        "import numpy as np\n",
        "print(np.__version__)\n",
        "````"
      ],
      "metadata": {
        "id": "4KJDG0qgtSoq"
      }
    },
    {
      "cell_type": "code",
      "source": [
        "import numpy as np\n",
        "import pandas as pd\n",
        "\n",
        "import matplotlib.pyplot as plt\n",
        "import seaborn as sns\n",
        "\n",
        "from sklearn.preprocessing import LabelEncoder, StandardScaler\n",
        "\n",
        "from sklearn.model_selection import train_test_split\n",
        "\n",
        "from sklearn.linear_model import LinearRegression\n",
        "\n",
        "from sklearn.ensemble import RandomForestClassifier\n",
        "from sklearn.metrics import accuracy_score, r2_score"
      ],
      "metadata": {
        "id": "VB49P7BQtkeQ"
      },
      "execution_count": 52,
      "outputs": []
    },
    {
      "cell_type": "markdown",
      "source": [
        "#1. Fundamentos de Python para Machine Learning"
      ],
      "metadata": {
        "id": "JUlYvrz6YZJ2"
      }
    },
    {
      "cell_type": "markdown",
      "source": [
        "## Estructuras de datos esenciales"
      ],
      "metadata": {
        "id": "e4g6Nc5OYgYy"
      }
    },
    {
      "cell_type": "code",
      "execution_count": 2,
      "metadata": {
        "id": "nmCMjIkSSauQ",
        "colab": {
          "base_uri": "https://localhost:8080/"
        },
        "outputId": "cb986273-f0ee-4479-93ae-864162a2c799"
      },
      "outputs": [
        {
          "output_type": "stream",
          "name": "stdout",
          "text": [
            "[1, 4, 9, 16, 25]\n",
            "25\n",
            "10\n"
          ]
        }
      ],
      "source": [
        "# Listas y comprensión de listas\n",
        "numeros = [1, 2, 3, 4, 5]\n",
        "cuadrados = [x**2 for x in numeros]\n",
        "\n",
        "print(cuadrados)  # [1, 4, 9, 16, 25]\n",
        "\n",
        "# Diccionarios\n",
        "edades = {'Juan': 25, 'María': 30}\n",
        "print(edades['Juan'])  # 25\n",
        "\n",
        "# Tuplas (inmutables)\n",
        "coordenadas = (10, 20)\n",
        "print(coordenadas[0])  # 10\n"
      ]
    },
    {
      "cell_type": "markdown",
      "source": [
        "## Funciones y módulos"
      ],
      "metadata": {
        "id": "CDJ0Sy4PaXof"
      }
    },
    {
      "cell_type": "code",
      "source": [
        "def suma(a, b):\n",
        "  return a + b\n",
        "\n",
        "print(suma(5, 3))  # 8\n",
        "\n",
        "# Uso de lambda\n",
        "multiplicar = lambda x, y: x * y\n",
        "print(multiplicar(3, 4))  # 12\n"
      ],
      "metadata": {
        "id": "o2U7Gyb9SrIE",
        "colab": {
          "base_uri": "https://localhost:8080/"
        },
        "outputId": "f579922f-32d0-498d-8abc-043e7199ac51"
      },
      "execution_count": 3,
      "outputs": [
        {
          "output_type": "stream",
          "name": "stdout",
          "text": [
            "8\n",
            "12\n"
          ]
        }
      ]
    },
    {
      "cell_type": "code",
      "source": [
        "vector = np.zeros(5)\n",
        "print(vector)"
      ],
      "metadata": {
        "id": "X_yhG6Ukegik",
        "colab": {
          "base_uri": "https://localhost:8080/"
        },
        "outputId": "02e5b9bc-9311-4f86-ce70-f8a6c226bd3d"
      },
      "execution_count": 4,
      "outputs": [
        {
          "output_type": "stream",
          "name": "stdout",
          "text": [
            "[0. 0. 0. 0. 0.]\n"
          ]
        }
      ]
    },
    {
      "cell_type": "code",
      "source": [
        "matriz = np.zeros((3, 4))\n",
        "print(matriz)"
      ],
      "metadata": {
        "id": "egveROtXeZNo",
        "colab": {
          "base_uri": "https://localhost:8080/"
        },
        "outputId": "4d3e3ba0-ef53-4052-d426-707bf72e8c7f"
      },
      "execution_count": 5,
      "outputs": [
        {
          "output_type": "stream",
          "name": "stdout",
          "text": [
            "[[0. 0. 0. 0.]\n",
            " [0. 0. 0. 0.]\n",
            " [0. 0. 0. 0.]]\n"
          ]
        }
      ]
    },
    {
      "cell_type": "code",
      "source": [
        "matriz_enteros = np.zeros((2, 3), dtype=int)\n",
        "print(matriz_enteros)"
      ],
      "metadata": {
        "id": "AmYsI-F5eTwR",
        "colab": {
          "base_uri": "https://localhost:8080/"
        },
        "outputId": "93d99418-f9d4-48f2-aabc-06c0f87fd2e4"
      },
      "execution_count": 8,
      "outputs": [
        {
          "output_type": "stream",
          "name": "stdout",
          "text": [
            "[[0 0 0]\n",
            " [0 0 0]]\n"
          ]
        }
      ]
    },
    {
      "cell_type": "markdown",
      "source": [
        "#1.Manejo y procesamiento de datos"
      ],
      "metadata": {
        "id": "J19unqUSSyxg"
      }
    },
    {
      "cell_type": "markdown",
      "source": [
        "## Array y operaciones: numpy"
      ],
      "metadata": {
        "id": "w9VCjsS4TGuQ"
      }
    },
    {
      "cell_type": "code",
      "source": [
        "# Crear array\n",
        "arreglo = np.array([1, 2, 3, 4, 5])\n",
        "print(arreglo.mean())  # Media\n",
        "print(np.std(arreglo))  # Desviación estándar\n"
      ],
      "metadata": {
        "id": "N80KGhLHSxY4",
        "colab": {
          "base_uri": "https://localhost:8080/"
        },
        "outputId": "ef4599a8-925f-42b0-efe0-26665d3e6cd9"
      },
      "execution_count": 9,
      "outputs": [
        {
          "output_type": "stream",
          "name": "stdout",
          "text": [
            "3.0\n",
            "1.4142135623730951\n"
          ]
        }
      ]
    },
    {
      "cell_type": "code",
      "source": [
        "# Crear array con nulos\n",
        "arreglo_con_nulos = np.array([1, 2, 3, np.nan, 4, 5])\n",
        "print(arreglo_con_nulos.mean())  # Media\n",
        "print(np.std(arreglo_con_nulos))  # Desviación estándar"
      ],
      "metadata": {
        "colab": {
          "base_uri": "https://localhost:8080/"
        },
        "id": "NLWibtWguygI",
        "outputId": "81175896-0d23-4874-9b41-e940c0995742"
      },
      "execution_count": 10,
      "outputs": [
        {
          "output_type": "stream",
          "name": "stdout",
          "text": [
            "nan\n",
            "nan\n"
          ]
        }
      ]
    },
    {
      "cell_type": "markdown",
      "source": [
        "## Uso de reshape"
      ],
      "metadata": {
        "id": "HWlgtiXr4m7y"
      }
    },
    {
      "cell_type": "code",
      "source": [
        "# Vector de 6 elementos\n",
        "a = np.array([1, 2, 3, 4, 5, 6])\n",
        "\n",
        "# Transformarlo en una matriz 2x3\n",
        "a_reshaped = a.reshape(2, 3)\n",
        "\n",
        "print(a_reshaped)"
      ],
      "metadata": {
        "colab": {
          "base_uri": "https://localhost:8080/"
        },
        "id": "sZ0fi2JD4q6Y",
        "outputId": "425f7ea2-f52c-4e3b-a0b2-888feec8b893"
      },
      "execution_count": 54,
      "outputs": [
        {
          "output_type": "stream",
          "name": "stdout",
          "text": [
            "[[1 2 3]\n",
            " [4 5 6]]\n"
          ]
        }
      ]
    },
    {
      "cell_type": "code",
      "source": [
        "b = np.array([[1, 2, 3],\n",
        "              [4, 5, 6]])\n",
        "\n",
        "b_reshaped = b.reshape(-1)  # -1 indica que se \"aplane\" en una sola dimensión\n",
        "\n",
        "print(b_reshaped)\n"
      ],
      "metadata": {
        "colab": {
          "base_uri": "https://localhost:8080/"
        },
        "id": "VhkM07h-4vI4",
        "outputId": "1eca6e6c-55ae-422f-e04c-1929b181439e"
      },
      "execution_count": 55,
      "outputs": [
        {
          "output_type": "stream",
          "name": "stdout",
          "text": [
            "[1 2 3 4 5 6]\n"
          ]
        }
      ]
    },
    {
      "cell_type": "code",
      "source": [
        "c = np.array([1, 2, 3, 4, 5, 6, 7, 8, 9, 10, 11, 12])\n",
        "\n",
        "# Se requieren 3 columnas, y se deja que numPy calcule las filas\n",
        "c_reshaped = c.reshape(-1, 3)\n",
        "\n",
        "print(c_reshaped)\n"
      ],
      "metadata": {
        "colab": {
          "base_uri": "https://localhost:8080/"
        },
        "id": "VtAiTFu-4zxr",
        "outputId": "278b0eda-53e1-485f-c2d3-3c6c5e33b2b2"
      },
      "execution_count": 56,
      "outputs": [
        {
          "output_type": "stream",
          "name": "stdout",
          "text": [
            "[[ 1  2  3]\n",
            " [ 4  5  6]\n",
            " [ 7  8  9]\n",
            " [10 11 12]]\n"
          ]
        }
      ]
    },
    {
      "cell_type": "code",
      "source": [
        "d = np.array([1, 2, 3, 4, 5])\n",
        "\n",
        "# Convertir a un vector columna (5 filas, 1 columna)\n",
        "d_columna = d.reshape(-1, 1)\n",
        "\n",
        "# Convertir a un vector fila (1 fila, 5 columnas)\n",
        "d_fila = d.reshape(1, -1)\n",
        "\n",
        "print(\"Vector columna:\\n\", d_columna)\n",
        "print(\"Vector fila:\\n\", d_fila)\n"
      ],
      "metadata": {
        "colab": {
          "base_uri": "https://localhost:8080/"
        },
        "id": "6AF2hgOJ473v",
        "outputId": "8ae658c6-a449-4f84-9b67-a6c3e1d61564"
      },
      "execution_count": 57,
      "outputs": [
        {
          "output_type": "stream",
          "name": "stdout",
          "text": [
            "Vector columna:\n",
            " [[1]\n",
            " [2]\n",
            " [3]\n",
            " [4]\n",
            " [5]]\n",
            "Vector fila:\n",
            " [[1 2 3 4 5]]\n"
          ]
        }
      ]
    },
    {
      "cell_type": "markdown",
      "source": [
        "**📌 ¿Por qué es importante reshape en Machine Learning?**\n",
        "\n",
        "+ **Preprocesamiento de datos:** asegurar que los datos tienen la forma correcta para los modelos.\n",
        "+ **Transformación de datos:** convertir imágenes en vectores, reorganizar tensores en Deep Learning.\n",
        "+ **Evitar errores en scikit-learn:** algunos modelos requieren datos en formato (n_samples, n_features)."
      ],
      "metadata": {
        "id": "8ry_szLG5BAa"
      }
    },
    {
      "cell_type": "markdown",
      "source": [
        "## Manipulación de datos: pandas"
      ],
      "metadata": {
        "id": "oOCyx1UJTRgj"
      }
    },
    {
      "cell_type": "code",
      "source": [
        "# Crear un DataFrame\n",
        "data = {'Nombre': ['Ana', 'Juan', 'Pedro'], 'Edad': [25, 30, 35]}\n",
        "df = pd.DataFrame(data)\n",
        "\n",
        "print(df.head())  # Muestra las primeras filas\n",
        "print(df.describe())  # Estadísticas básicas\n",
        "\n",
        "# Filtrar por condición\n",
        "print(df[df['Edad'] > 28])\n"
      ],
      "metadata": {
        "id": "m10TXPT1TU0h",
        "colab": {
          "base_uri": "https://localhost:8080/"
        },
        "outputId": "0e6c3328-7b5e-4dfc-d2da-8a3657c4528b"
      },
      "execution_count": 11,
      "outputs": [
        {
          "output_type": "stream",
          "name": "stdout",
          "text": [
            "  Nombre  Edad\n",
            "0    Ana    25\n",
            "1   Juan    30\n",
            "2  Pedro    35\n",
            "       Edad\n",
            "count   3.0\n",
            "mean   30.0\n",
            "std     5.0\n",
            "min    25.0\n",
            "25%    27.5\n",
            "50%    30.0\n",
            "75%    32.5\n",
            "max    35.0\n",
            "  Nombre  Edad\n",
            "1   Juan    30\n",
            "2  Pedro    35\n"
          ]
        }
      ]
    },
    {
      "cell_type": "markdown",
      "source": [
        "## Visualización: matplotlib y seaborn"
      ],
      "metadata": {
        "id": "_FqOMdAGTeBN"
      }
    },
    {
      "cell_type": "code",
      "source": [
        "# Gráfico de dispersión\n",
        "sns.scatterplot(x=[1, 2, 3, 4], y=[10, 20, 25, 30])\n",
        "plt.title(\"Dispersión\", fontsize=14, fontweight=\"bold\")\n",
        "plt.xlabel(\"X\", fontsize=12, fontweight=\"bold\")\n",
        "plt.ylabel(\"Y\", fontsize=12, fontweight=\"bold\")\n",
        "plt.grid(True)\n",
        "plt.show()"
      ],
      "metadata": {
        "id": "7BrV1PGQTc_D",
        "colab": {
          "base_uri": "https://localhost:8080/",
          "height": 478
        },
        "outputId": "d01981a0-82c4-4f31-ccd6-0871a5152d07"
      },
      "execution_count": 58,
      "outputs": [
        {
          "output_type": "display_data",
          "data": {
            "text/plain": [
              "<Figure size 640x480 with 1 Axes>"
            ],
            "image/png": "[encoded data removed]"
          },
          "metadata": {}
        }
      ]
    },
    {
      "cell_type": "markdown",
      "source": [
        "# 3. Preparación de datos"
      ],
      "metadata": {
        "id": "RxTLI9AmTlnI"
      }
    },
    {
      "cell_type": "markdown",
      "source": [
        "## Codificación de variables categóricas"
      ],
      "metadata": {
        "id": "igjRLlD_VhW-"
      }
    },
    {
      "cell_type": "code",
      "source": [
        "df = pd.DataFrame({'Color': ['Rojo', 'Verde', 'Azul', 'Rojo']})\n",
        "encoder = LabelEncoder()\n",
        "df['Color_Encoded'] = encoder.fit_transform(df['Color'])\n",
        "print(df)\n"
      ],
      "metadata": {
        "id": "SNImrnDaU1o5",
        "colab": {
          "base_uri": "https://localhost:8080/"
        },
        "outputId": "f1b284c6-3c12-42cd-d3a0-21a579343b45"
      },
      "execution_count": 16,
      "outputs": [
        {
          "output_type": "stream",
          "name": "stdout",
          "text": [
            "   Color  Color_Encoded\n",
            "0   Rojo              1\n",
            "1  Verde              2\n",
            "2   Azul              0\n",
            "3   Rojo              1\n"
          ]
        }
      ]
    },
    {
      "cell_type": "markdown",
      "source": [
        "## Escalado y normalización"
      ],
      "metadata": {
        "id": "kgbP4aCHVcNg"
      }
    },
    {
      "cell_type": "code",
      "source": [
        "valores = np.array([[1, 2], [3, 4], [5, 6]])\n",
        "scaler = StandardScaler()\n",
        "valores_escalados = scaler.fit_transform(valores)\n",
        "print(valores_escalados)\n"
      ],
      "metadata": {
        "id": "V3lJdYWYVef1",
        "colab": {
          "base_uri": "https://localhost:8080/"
        },
        "outputId": "86e0721e-369f-497d-fb44-a684aca10d8e"
      },
      "execution_count": 17,
      "outputs": [
        {
          "output_type": "stream",
          "name": "stdout",
          "text": [
            "[[-1.22474487 -1.22474487]\n",
            " [ 0.          0.        ]\n",
            " [ 1.22474487  1.22474487]]\n"
          ]
        }
      ]
    },
    {
      "cell_type": "markdown",
      "source": [
        "## Explicación de los valores"
      ],
      "metadata": {
        "id": "W2nYBRxnw1Ij"
      }
    },
    {
      "cell_type": "markdown",
      "source": [
        "\n",
        "### 1️⃣ Datos Originales  \n",
        "\n",
        "La matriz de datos dada es:\n",
        "\n",
        "\\[\n",
        "X =\n",
        "\\begin{bmatrix}\n",
        "1 & 2 \\\\\n",
        "3 & 4 \\\\\n",
        "5 & 6\n",
        "\\end{bmatrix}\n",
        "\\]\n",
        "\n",
        "### 2️⃣ Cálculo de la Media y Desviación Estándar  \n",
        "\n",
        "StandardScaler estandariza los datos restando la media de cada columna y dividiendo por la desviación estándar.\n",
        "\n",
        "#### **Cálculo de la media por columna**  \n",
        "\n",
        "$\\mu_j = \\frac{1}{n} \\sum_{i=1}^{n} x_{ij}$\n",
        "\n",
        "Aplicamos esto a cada columna:\n",
        "\n",
        "- Para la primera columna:\n",
        "\n",
        "  $[\n",
        "  \\mu_1 = \\frac{1 + 3 + 5}{3} = \\frac{9}{3} = 3\n",
        "  ]$\n",
        "\n",
        "- Para la segunda columna:\n",
        "\n",
        "  $[\n",
        "  \\mu_2 = \\frac{2 + 4 + 6}{3} = \\frac{12}{3} = 4\n",
        "  ]$\n",
        "\n",
        "Entonces, el vector de medias es:\n",
        "\n",
        "$[\n",
        "\\mu = (3,4)\n",
        "]$\n",
        "\n",
        "#### **Cálculo de la desviación estándar por columna**  \n",
        "\n",
        "La desviación estándar se calcula como:\n",
        "\n",
        "$\n",
        "\\sigma_j = \\sqrt{\\frac{1}{n} \\sum_{i=1}^{n} (x_{ij} - \\mu_j)^2}\n",
        "$\n",
        "\n",
        "- Para la primera columna:\n",
        "\n",
        "  \n",
        "  $\\sigma_1 = \\sqrt{\\frac{(1-3)^2 + (3-3)^2 + (5-3)^2}{3}}$\n",
        "\n",
        "  $[\n",
        "  = \\sqrt{\\frac{(-2)^2 + (0)^2 + (2)^2}{3}}\n",
        "  = \\sqrt{\\frac{4 + 0 + 4}{3}}\n",
        "  = \\sqrt{\\frac{8}{3}} \\approx 1.63\n",
        "  ]$\n",
        "\n",
        "- Para la segunda columna:\n",
        "\n",
        "  \n",
        "  $\\sigma_2 = \\sqrt{\\frac{(2-4)^2 + (4-4)^2 + (6-4)^2}{3}}$\n",
        "\n",
        "  $[\n",
        "  = \\sqrt{\\frac{(-2)^2 + (0)^2 + (2)^2}{3}}\n",
        "  = \\sqrt{\\frac{4 + 0 + 4}{3}}\n",
        "  = \\sqrt{\\frac{8}{3}} \\approx 1.63\n",
        "  ]$\n",
        "\n",
        "Entonces, el vector de desviaciones estándar es:\n",
        "\n",
        "$[\n",
        "\\sigma = (1.63, 1.63)\n",
        "]$\n",
        "\n",
        "### 3️⃣ Estandarización de los Datos  \n",
        "\n",
        "Cada valor se transforma según la fórmula:\n",
        "\n",
        "$z_{ij} = \\frac{x_{ij} - \\mu_j}{\\sigma_j}$\n",
        "\n",
        "Aplicamos esto a cada elemento:\n",
        "\n",
        "$Z =\n",
        "\\begin{bmatrix}\n",
        "\\frac{1-3}{1.63} & \\frac{2-4}{1.63} \\\\\n",
        "\\frac{3-3}{1.63} & \\frac{4-4}{1.63} \\\\\n",
        "\\frac{5-3}{1.63} & \\frac{6-4}{1.63}\n",
        "\\end{bmatrix}$\n",
        "\n",
        "$=\n",
        "\\begin{bmatrix}\n",
        "\\frac{-2}{1.63} & \\frac{-2}{1.63} \\\\\n",
        "\\frac{0}{1.63} & \\frac{0}{1.63} \\\\\n",
        "\\frac{2}{1.63} & \\frac{2}{1.63}\n",
        "\\end{bmatrix}\n",
        "$\n",
        "\n",
        "$\\approx\n",
        "\\begin{bmatrix}\n",
        "-1.22 & -1.22 \\\\\n",
        "0 & 0 \\\\\n",
        "1.22 & 1.22\n",
        "\\end{bmatrix}\n",
        "$\n",
        "\n",
        "\n",
        "### 4️⃣ Resultado Final  \n",
        "\n",
        "El conjunto de datos escalado es:\n",
        "\n",
        "$\n",
        "Z =\n",
        "\\begin{bmatrix}\n",
        "-1.22 & -1.22 \\\\\n",
        "0 & 0 \\\\\n",
        "1.22 & 1.22\n",
        "\\end{bmatrix}\n",
        "$"
      ],
      "metadata": {
        "id": "tuyh3GlPw4ek"
      }
    },
    {
      "cell_type": "markdown",
      "source": [
        "## División de datos"
      ],
      "metadata": {
        "id": "lXWiycvfVn5F"
      }
    },
    {
      "cell_type": "code",
      "source": [
        "X = np.array([[1], [2], [3], [4], [5]])\n",
        "y = np.array([10, 20, 30, 40, 50])\n",
        "X_train, X_test, y_train, y_test = train_test_split(X, y, test_size=0.2, random_state=29)\n",
        "print(X_train, X_test)\n"
      ],
      "metadata": {
        "id": "K4toUbG3Vpoh",
        "colab": {
          "base_uri": "https://localhost:8080/"
        },
        "outputId": "ae5543b0-374b-43f2-d1c9-0b2a0d8f69fe"
      },
      "execution_count": 18,
      "outputs": [
        {
          "output_type": "stream",
          "name": "stdout",
          "text": [
            "[[5]\n",
            " [2]\n",
            " [1]\n",
            " [4]] [[3]]\n"
          ]
        }
      ]
    },
    {
      "cell_type": "code",
      "source": [
        "print(\"X:\", X)\n",
        "print(\"y:\", y)"
      ],
      "metadata": {
        "colab": {
          "base_uri": "https://localhost:8080/"
        },
        "id": "p12tEx_WzScm",
        "outputId": "a78964e2-0401-47e3-aa1b-473dbd890442"
      },
      "execution_count": 20,
      "outputs": [
        {
          "output_type": "stream",
          "name": "stdout",
          "text": [
            "X: [[1]\n",
            " [2]\n",
            " [3]\n",
            " [4]\n",
            " [5]]\n",
            "y: [10 20 30 40 50]\n"
          ]
        }
      ]
    },
    {
      "cell_type": "code",
      "source": [
        "print(\"shape de X:\", X.shape)\n",
        "print(\"shape de y:\", y.shape)"
      ],
      "metadata": {
        "colab": {
          "base_uri": "https://localhost:8080/"
        },
        "id": "3l1kdNCjzfKk",
        "outputId": "31af667b-48be-4940-8563-07be73f099ff"
      },
      "execution_count": 21,
      "outputs": [
        {
          "output_type": "stream",
          "name": "stdout",
          "text": [
            "shape de X: (5, 1)\n",
            "shape de y: (5,)\n"
          ]
        }
      ]
    },
    {
      "cell_type": "markdown",
      "source": [
        "# 4. Generación de modelos predictivos"
      ],
      "metadata": {
        "id": "jS_fWGz_VtII"
      }
    },
    {
      "cell_type": "markdown",
      "source": [
        "## Regresión lineal"
      ],
      "metadata": {
        "id": "hE-JPJK0VyOZ"
      }
    },
    {
      "cell_type": "code",
      "source": [
        "X = np.array([[1], [2], [3], [4], [5]])\n",
        "y = np.array([10, 20, 30, 40, 50])"
      ],
      "metadata": {
        "id": "utYrW3MmV0AI"
      },
      "execution_count": 35,
      "outputs": []
    },
    {
      "cell_type": "code",
      "source": [
        "# Crear gráfico\n",
        "plt.figure(figsize=(6, 4))\n",
        "plt.scatter(X, y, color='blue', label=\"Datos (X, y)\")\n",
        "plt.plot(X, y, color='red', linestyle=\"dashed\", label=\"Tendencia\")\n",
        "plt.xlabel(\"X\", fontsize=12, fontweight=\"bold\")\n",
        "plt.ylabel(\"y\", fontsize=12, fontweight=\"bold\")\n",
        "plt.title(\"Relación entre X e y\", fontsize=14, fontweight=\"bold\")\n",
        "plt.legend()\n",
        "plt.grid(True)\n",
        "plt.show()\n",
        "\n",
        "# Crear tabla con pandas\n",
        "tabla = pd.DataFrame({\"X\": X.flatten(), \"y\": y})\n",
        "print(tabla.to_string(index=False))"
      ],
      "metadata": {
        "colab": {
          "base_uri": "https://localhost:8080/",
          "height": 520
        },
        "id": "D879uYV70F0b",
        "outputId": "854b3db1-3239-4979-ef26-78ea0e026867"
      },
      "execution_count": 36,
      "outputs": [
        {
          "output_type": "display_data",
          "data": {
            "text/plain": [
              "<Figure size 600x400 with 1 Axes>"
            ],
            "image/png": "[encoded data removed]"
          },
          "metadata": {}
        },
        {
          "output_type": "stream",
          "name": "stdout",
          "text": [
            " X  y\n",
            " 1 10\n",
            " 2 20\n",
            " 3 30\n",
            " 4 40\n",
            " 5 50\n"
          ]
        }
      ]
    },
    {
      "cell_type": "code",
      "source": [
        "# Modelo de regresión\n",
        "# Crea el modelo\n",
        "modelo = LinearRegression()\n",
        "# Entrena el modelo\n",
        "modelo.fit(X, y) # En la práctica esto NO es así, porque se debe dividir el conjunto de datos\n",
        "# Evalúa el modelo\n",
        "print(modelo.predict([[6]]))  # Predicción para X=6"
      ],
      "metadata": {
        "colab": {
          "base_uri": "https://localhost:8080/"
        },
        "id": "zqM_l4NX0LYC",
        "outputId": "9aa9880d-7c05-4078-cdf1-5d7c4bc13f21"
      },
      "execution_count": 37,
      "outputs": [
        {
          "output_type": "stream",
          "name": "stdout",
          "text": [
            "[60.]\n"
          ]
        }
      ]
    },
    {
      "cell_type": "code",
      "source": [
        "print(\"Coeficientes:\", modelo.coef_)\n",
        "print(\"Intercepto:\", modelo.intercept_)"
      ],
      "metadata": {
        "colab": {
          "base_uri": "https://localhost:8080/"
        },
        "id": "3txRGntkzqsJ",
        "outputId": "72d63dc9-4264-42dc-da1d-fa15478885d0"
      },
      "execution_count": 38,
      "outputs": [
        {
          "output_type": "stream",
          "name": "stdout",
          "text": [
            "Coeficientes: [10.]\n",
            "Intercepto: 7.105427357601002e-15\n"
          ]
        }
      ]
    },
    {
      "cell_type": "code",
      "source": [
        "# Hacer predicciones\n",
        "y_pred = modelo.predict(X)\n",
        "\n",
        "# Calcular el score (R²)\n",
        "score = r2_score(y, y_pred)\n",
        "\n",
        "# Mostrar resultados\n",
        "print(\"Predicciones:\", y_pred)\n",
        "print(\"Score del modelo (R²):\", score)"
      ],
      "metadata": {
        "colab": {
          "base_uri": "https://localhost:8080/"
        },
        "id": "aPUAc4G_3XGq",
        "outputId": "e431e0b3-e6a2-4b94-885d-ae951b5cbca1"
      },
      "execution_count": 53,
      "outputs": [
        {
          "output_type": "stream",
          "name": "stdout",
          "text": [
            "Predicciones: [10. 20. 30. 40. 50.]\n",
            "Score del modelo (R²): 1.0\n"
          ]
        }
      ]
    },
    {
      "cell_type": "markdown",
      "source": [
        "## Clasificación con RandomForest"
      ],
      "metadata": {
        "id": "kodWq7nkV4Lc"
      }
    },
    {
      "cell_type": "code",
      "source": [
        "X = np.array([[1, 2], [2, 3], [3, 4], [5, 6]])\n",
        "y = np.array([0, 1, 0, 1])"
      ],
      "metadata": {
        "id": "tAPUHY_2WFEc"
      },
      "execution_count": 28,
      "outputs": []
    },
    {
      "cell_type": "code",
      "source": [
        "# Crear el scatter plot\n",
        "plt.figure(figsize=(6, 4))\n",
        "for clase, color, label in zip([0, 1], [\"red\", \"blue\"], [\"Clase 0\", \"Clase 1\"]):\n",
        "    plt.scatter(X[y == clase, 0], X[y == clase, 1], color=color, label=label)\n",
        "\n",
        "# Configuración del gráfico\n",
        "plt.xlabel(\"Característica 1\", fontsize=12, fontweight=\"bold\")\n",
        "plt.ylabel(\"Característica 2\", fontsize=12, fontweight=\"bold\")\n",
        "plt.title(\"Distribución de los datos en 2D\", fontsize=14, fontweight=\"bold\")\n",
        "plt.legend()\n",
        "plt.grid(True)\n",
        "plt.show()"
      ],
      "metadata": {
        "colab": {
          "base_uri": "https://localhost:8080/",
          "height": 415
        },
        "id": "aSodwTgE04Qm",
        "outputId": "62c9080c-72b1-49d4-9a75-d591583c0b13"
      },
      "execution_count": 30,
      "outputs": [
        {
          "output_type": "display_data",
          "data": {
            "text/plain": [
              "<Figure size 600x400 with 1 Axes>"
            ],
            "image/png": "[encoded data removed]"
          },
          "metadata": {}
        }
      ]
    },
    {
      "cell_type": "code",
      "source": [
        "# Crear DataFrame\n",
        "df = pd.DataFrame(np.column_stack((X, y)), columns=[\"Característica 1\", \"Característica 2\", \"Clase\"])\n",
        "\n",
        "# Mostrar la tabla\n",
        "print(df)"
      ],
      "metadata": {
        "colab": {
          "base_uri": "https://localhost:8080/"
        },
        "id": "srAttpkd1itm",
        "outputId": "ec405407-d858-44e2-fc54-bcbb0fc90679"
      },
      "execution_count": 32,
      "outputs": [
        {
          "output_type": "stream",
          "name": "stdout",
          "text": [
            "   Característica 1  Característica 2  Clase\n",
            "0                 1                 2      0\n",
            "1                 2                 3      1\n",
            "2                 3                 4      0\n",
            "3                 5                 6      1\n"
          ]
        }
      ]
    },
    {
      "cell_type": "code",
      "source": [
        "# Modelo de clasificación\n",
        "# Crea el modelo\n",
        "modelo_clf = RandomForestClassifier()\n",
        "# Entrena el modelo\n",
        "modelo_clf.fit(X, y) # En la práctica esto NO es así, porque se debe dividir el conjunto de datos\n",
        "# Evalúa el modelo (realiza predicciones)\n",
        "predicciones = modelo_clf.predict(X)\n",
        "# Métrica del modelo\n",
        "print(\"Precisión:\", accuracy_score(y, predicciones))"
      ],
      "metadata": {
        "colab": {
          "base_uri": "https://localhost:8080/"
        },
        "id": "R3nOFBnf08Rk",
        "outputId": "aff595a0-5a30-4f91-c2b1-3a9b8c81b2fb"
      },
      "execution_count": 31,
      "outputs": [
        {
          "output_type": "stream",
          "name": "stdout",
          "text": [
            "Precisión: 1.0\n"
          ]
        }
      ]
    }
  ]
}