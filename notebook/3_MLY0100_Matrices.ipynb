{
  "nbformat": 4,
  "nbformat_minor": 0,
  "metadata": {
    "colab": {
      "provenance": []
    },
    "kernelspec": {
      "name": "python3",
      "display_name": "Python 3"
    },
    "language_info": {
      "name": "python"
    }
  },
  "cells": [
    {
      "cell_type": "markdown",
      "source": [
        "# Uso de matrices en Python\n",
        "\n",
        "**Autor:** Jazna Meza Hidalgo\n",
        "\n",
        "**Correo Electrónico:** ja.meza@profesor.duoc.cl\n",
        "\n",
        "**Fecha de Creación:** Marzo de 2025\n",
        "\n",
        "**Versión:** 1.0  \n",
        "\n",
        "---\n",
        "\n",
        "## Descripción\n",
        "\n",
        "Las matrices son una de las estructuras de datos usadas en Machine Learning.\n",
        "\n",
        "Además, explica el concepto de valor y vector propio que son conceptos muy útiles en la reducción de la dimensionalidad.\n",
        "\n",
        "---\n",
        "\n",
        "## Requisitos de Software\n",
        "\n",
        "Este notebook fue desarrollado con Python 3.9. A continuación se listan las bibliotecas necesarias:\n",
        "\n",
        "- matplotlib (3.10.0)\n",
        "- numpy (1.26.4)\n",
        "- sympy (1.13.1)\n",
        "\n",
        "Para verificar la versión instalada ejecutar usando el siguiente comando, usando la librería de la cual quieres saber la versión:\n",
        "\n",
        "```bash\n",
        "import numpy as np\n",
        "print(np.__version__)\n",
        "````"
      ],
      "metadata": {
        "id": "EVMx8QeGJFkc"
      }
    },
    {
      "cell_type": "markdown",
      "source": [
        "# Descripción de ejercicio\n",
        "\n",
        "Ejecuta cada celda de código y explica las operaciones realizadas con matrices. Si es necesario, investiga los términos que desconoces."
      ],
      "metadata": {
        "id": "SDBsfnUUl7lM"
      }
    },
    {
      "cell_type": "code",
      "source": [
        "import matplotlib.pyplot as plt\n",
        "import numpy as np\n",
        "import sympy as sp"
      ],
      "metadata": {
        "id": "f0PGrLXsj6-w"
      },
      "execution_count": 1,
      "outputs": []
    },
    {
      "cell_type": "code",
      "source": [
        "def dibuja_figura():\n",
        "    \"\"\"Crea la figura de pyplot y los ejes.\"\"\"\n",
        "    fix, ax = plt.subplots()\n",
        "    for spine in [\"left\", \"bottom\"]:\n",
        "        ax.spines[spine].set_position(\"zero\")\n",
        "\n",
        "    return ax"
      ],
      "metadata": {
        "id": "KKuwJgF6j9qI"
      },
      "execution_count": 2,
      "outputs": []
    },
    {
      "cell_type": "code",
      "source": [
        "def vector_plano(vector : np.array, color : str):\n",
        "    \"\"\"Genera el grafico de los vectores en el plano\"\"\"\n",
        "    v = vector\n",
        "    ax.annotate(\" \", xy=v, xytext=[0, 0], color=color,\n",
        "                arrowprops=dict(facecolor=color,\n",
        "                                shrink=0,\n",
        "                                alpha=0.7,\n",
        "                                width=0.5))\n",
        "    ax.text(1.1 * v[0], 1.1 * v[1], v)"
      ],
      "metadata": {
        "id": "KXasoh4ikAX0"
      },
      "execution_count": 3,
      "outputs": []
    },
    {
      "cell_type": "markdown",
      "source": [
        "# Matrices y sus operaciones"
      ],
      "metadata": {
        "id": "Wy_jaks4LMnZ"
      }
    },
    {
      "cell_type": "code",
      "source": [
        "A = sp.Matrix( [[ 2,-3,-8, 7],\n",
        "                   [-2,-1, 2,-7],\n",
        "                   [ 1, 0,-3, 6]] )\n",
        "print (\"Matriz A\")\n",
        "print (A)\n",
        "print(A.shape)\n",
        "# Transpuesta\n",
        "print (\"Transpuesta de A\")\n",
        "print (A.transpose())\n",
        "# transpuesta de transpuesta vuelve a A.\n",
        "print (\"Transpuesta de la transpuesta de A\")\n",
        "A.transpose().transpose()\n",
        "# Creando matriz simetrica\n",
        "As = A*A.transpose()\n",
        "# Comprobando simetria.\n",
        "print (\"Transpuesta de As\")\n",
        "print (As.transpose())\n",
        "# Matriz invertible\n",
        "A = sp.Matrix( [[1,2],\n",
        "                   [3,9]] )\n",
        "print (\"Matriz A\")\n",
        "print (A)\n",
        "A_inv = A.inv()\n",
        "print (\"Inversa de A\")\n",
        "print (A_inv)\n"
      ],
      "metadata": {
        "id": "EzJVpIMrkC_i",
        "colab": {
          "base_uri": "https://localhost:8080/"
        },
        "outputId": "a0d30f7c-021e-46e7-d51e-ddc0ac90a3ae"
      },
      "execution_count": 4,
      "outputs": [
        {
          "output_type": "stream",
          "name": "stdout",
          "text": [
            "Matriz A\n",
            "Matrix([[2, -3, -8, 7], [-2, -1, 2, -7], [1, 0, -3, 6]])\n",
            "(3, 4)\n",
            "Transpuesta de A\n",
            "Matrix([[2, -2, 1], [-3, -1, 0], [-8, 2, -3], [7, -7, 6]])\n",
            "Transpuesta de la transpuesta de A\n",
            "Transpuesta de As\n",
            "Matrix([[126, -66, 68], [-66, 58, -50], [68, -50, 46]])\n",
            "Matriz A\n",
            "Matrix([[1, 2], [3, 9]])\n",
            "Inversa de A\n",
            "Matrix([[3, -2/3], [-1, 1/3]])\n"
          ]
        }
      ]
    },
    {
      "cell_type": "code",
      "source": [
        "# A * A_inv = I\n",
        "A*A_inv\n",
        "# Forma escalonada igual a indentidad.\n",
        "A.rref()\n",
        "# La inversa de A_inv es A\n",
        "A_inv.inv()\n",
        "# Resolviendo el sistema de ecuaciones.\n",
        "A = np.array([[1.2, -2.2],\n",
        "              [1.1, 1.4]])\n",
        "b = np.array([0., 0.])\n",
        "\n",
        "x = np.linalg.solve(A, b)\n",
        "print (x)\n"
      ],
      "metadata": {
        "id": "MNmxZZRjkIP1",
        "colab": {
          "base_uri": "https://localhost:8080/"
        },
        "outputId": "ea781eda-bcc8-42cf-c7cb-1e528d0ee20a"
      },
      "execution_count": 5,
      "outputs": [
        {
          "output_type": "stream",
          "name": "stdout",
          "text": [
            "[0. 0.]\n"
          ]
        }
      ]
    },
    {
      "cell_type": "code",
      "source": [
        "# Solución gráfica.\n",
        "x_vals = np.linspace(-5, 5, 50) # crea 50 valores entre -5 y 5\n",
        "ax = dibuja_figura()\n",
        "ax.set_xlim(-5, 5)\n",
        "ax.set_ylim(-5, 5)\n",
        "ax.grid()\n",
        "ax.plot(x_vals, (1.2 * x_vals) / -2.2) # gráfica 1.2x_1 - 2.2x_2 = 0\n",
        "a = ax.plot(x_vals, (1.1 * x_vals) / 1.4) # gráfica 1.1x_1 + 1.4x_2 = 0"
      ],
      "metadata": {
        "id": "wsPoTf7zkL6N",
        "colab": {
          "base_uri": "https://localhost:8080/",
          "height": 406
        },
        "outputId": "6e02d2da-95be-490d-fdbb-c1b3bb432a28"
      },
      "execution_count": 7,
      "outputs": [
        {
          "output_type": "display_data",
          "data": {
            "text/plain": [
              "<Figure size 640x480 with 1 Axes>"
            ],
            "image/png": "[encoded data removed]"
          },
          "metadata": {}
        }
      ]
    },
    {
      "cell_type": "code",
      "source": [
        "# Sympy para resolver el sistema de ecuaciones lineales\n",
        "a1, a2, a3 = sp.symbols('a1, a2, a3')\n",
        "A = sp.Matrix(( (3, 3, 3, 0), (2, 2, 2, 0), (2, 1, 0, 0), (3, 2, 1, 0) ))\n",
        "\n",
        "print(sp.solve_linear_system(A, a1, a2, a3))\n",
        "\n",
        "A = sp.Matrix(( (1, 1, 1, 0), (-2, 1, 1, 0), (-1, 2, 0, 0) ))\n",
        "print(sp.solve_linear_system(A, a1, a2, a3))\n",
        "\n",
        "# Calculando el rango con SymPy\n",
        "A = sp.Matrix([[1, 1, 1, 4],\n",
        "                  [1, 2, 1, 5],\n",
        "                  [1, 1, 1, 6]])\n",
        "# Rango con SymPy\n",
        "print (A.rank())"
      ],
      "metadata": {
        "id": "0kmbNy2qkOjb",
        "colab": {
          "base_uri": "https://localhost:8080/"
        },
        "outputId": "162ad2e2-f548-49ac-fee7-d2fb13e29e8c"
      },
      "execution_count": 23,
      "outputs": [
        {
          "output_type": "stream",
          "name": "stdout",
          "text": [
            "{a1: a3, a2: -2*a3}\n",
            "{a1: 0, a2: 0, a3: 0}\n",
            "3\n"
          ]
        }
      ]
    },
    {
      "cell_type": "markdown",
      "source": [
        "**❓ ¿Puede interpretar la solución del primer sistema: {a1: a3, a2: -2*a3}?**\n",
        "\n",
        "\n"
      ],
      "metadata": {
        "id": "sHAAsChsO0r9"
      }
    },
    {
      "cell_type": "code",
      "source": [
        "# Calculando el rango con numpy\n",
        "A = np.array([[1, 1, 1, 4],\n",
        "              [1, 2, 1, 5],\n",
        "              [1, 1, 1, 6]])\n",
        "\n",
        "print (np.linalg.matrix_rank(A))"
      ],
      "metadata": {
        "id": "qydq07_XkR93",
        "colab": {
          "base_uri": "https://localhost:8080/"
        },
        "outputId": "b09f9c8b-0f1c-44a7-e0b8-01ba1eaa6627"
      },
      "execution_count": 15,
      "outputs": [
        {
          "output_type": "stream",
          "name": "stdout",
          "text": [
            "3\n"
          ]
        }
      ]
    },
    {
      "cell_type": "code",
      "source": [
        "# Determinante con sympy\n",
        "A = sp.Matrix( [[1, 2, 6],\n",
        "                   [2,-2, 0],\n",
        "                   [2, 3, 5]] )\n",
        "print (A.det())\n"
      ],
      "metadata": {
        "id": "q8hCbKlOkVmA",
        "colab": {
          "base_uri": "https://localhost:8080/"
        },
        "outputId": "7ade455d-2c7d-4c16-cd63-df29b7c46a29"
      },
      "execution_count": 16,
      "outputs": [
        {
          "output_type": "stream",
          "name": "stdout",
          "text": [
            "30\n"
          ]
        }
      ]
    },
    {
      "cell_type": "code",
      "source": [
        "# Determinante con numpy\n",
        "A = np.array([[1, 2, 6],\n",
        "              [2, -2, 0],\n",
        "              [2, 3, 5]] )\n",
        "print (np.linalg.det(A))"
      ],
      "metadata": {
        "id": "VnaXfNPjkX16",
        "colab": {
          "base_uri": "https://localhost:8080/"
        },
        "outputId": "9b0d2a0e-5479-470d-8a0f-e04bdbaff6b5"
      },
      "execution_count": 17,
      "outputs": [
        {
          "output_type": "stream",
          "name": "stdout",
          "text": [
            "29.99999999999999\n"
          ]
        }
      ]
    },
    {
      "cell_type": "markdown",
      "source": [
        "# Valores y vectores propios"
      ],
      "metadata": {
        "id": "dDpWzeK-LHdY"
      }
    },
    {
      "cell_type": "markdown",
      "source": [
        "El concepto de **valor propio** y **vector propio** surge en el contexto de álgebra lineal, especialmente cuando se trabaja con matrices. :\n",
        "\n",
        "### Valor Propio (Eigenvalue)\n",
        "\n",
        "Un **valor propio** es un número que describe cuánto se \"*escala*\" un vector cuando se aplica una matriz sobre él. Matemáticamente, se dice que un valor $\\lambda$ es un valor propio de una matriz $A$ si existe un vector no nulo $v$ tal que:\n",
        "\n",
        "$A \\cdot v = \\lambda \\cdot v$\n",
        "\n",
        "Es decir, cuando se aplica la matriz $A$ al vector $v$, el vector solo se escala (se estira o se contrae) y no cambia de dirección. El número $\\lambda$\\ es el factor por el cual el vector es escalado.\n",
        "\n",
        "### Vector Propio (Eigenvector)\n",
        "\n",
        "Un **vector propio** es un vector no nulo que, cuando se aplica una matriz sobre él, solo cambia de magnitud, pero no de dirección. Dicho de otra forma, un vector propio es un vector $v$ tal que:\n",
        "\n",
        "$A \\cdot v = \\lambda \\cdot v$\n",
        "\n",
        "Aquí, $v$ es el vector propio y $\\lambda$ es el valor propio correspondiente. Los vectores propios pueden interpretarse como direcciones especiales en las que las transformaciones representadas por la matriz no \"rotan\" el vector, sino que solo lo escalan.\n",
        "\n",
        "### Resumen:\n",
        "\n",
        "- **Valor propio** $\\lambda$: el factor de escala que describe cómo se estira o comprime un vector.\n",
        "- **Vector propio** $v$: el vector que se mantiene en su dirección original (solo cambia su magnitud) tras la aplicación de una matriz."
      ],
      "metadata": {
        "id": "RXX69P1YLnLv"
      }
    },
    {
      "cell_type": "code",
      "source": [
        "# Valores_propios con numpy\n",
        "A = np.array([[3, 2],\n",
        "              [7, -2]])\n",
        "\n",
        "x, v = np.linalg.eig(A)"
      ],
      "metadata": {
        "id": "3rugwDQPkavx"
      },
      "execution_count": 18,
      "outputs": []
    },
    {
      "cell_type": "code",
      "source": [
        "# x valor_propio, v vector_propio\n",
        "print (\"valor propio y vector propio de A\")\n",
        "print (x, v)"
      ],
      "metadata": {
        "id": "99HOLrX1kdSM",
        "colab": {
          "base_uri": "https://localhost:8080/"
        },
        "outputId": "656557ee-8ed1-4ac6-d0d0-22a86f231f89"
      },
      "execution_count": 19,
      "outputs": [
        {
          "output_type": "stream",
          "name": "stdout",
          "text": [
            "valor propio y vector propio de A\n",
            "[ 5. -4.] [[ 0.70710678 -0.27472113]\n",
            " [ 0.70710678  0.96152395]]\n"
          ]
        }
      ]
    },
    {
      "cell_type": "code",
      "source": [
        "# valores_propios con SymPy\n",
        "A = sp.Matrix([[3, 2],\n",
        "                  [7, -2]])"
      ],
      "metadata": {
        "id": "MpfYBbpXkfyC"
      },
      "execution_count": 20,
      "outputs": []
    },
    {
      "cell_type": "code",
      "source": [
        "# Valores_propios\n",
        "print (A)\n",
        "print (\"valores propios\")\n",
        "print (A.eigenvals())\n",
        "print (\"vectores propios\")\n",
        "# vector_propio\n",
        "print (A.eigenvects())"
      ],
      "metadata": {
        "id": "oKzszHhkkiX2",
        "colab": {
          "base_uri": "https://localhost:8080/"
        },
        "outputId": "0008c46b-e1dd-46ba-9744-07ea093ef4dd"
      },
      "execution_count": 21,
      "outputs": [
        {
          "output_type": "stream",
          "name": "stdout",
          "text": [
            "Matrix([[3, 2], [7, -2]])\n",
            "valores propios\n",
            "{5: 1, -4: 1}\n",
            "vectores propios\n",
            "[(-4, 1, [Matrix([\n",
            "[-2/7],\n",
            "[   1]])]), (5, 1, [Matrix([\n",
            "[1],\n",
            "[1]])])]\n"
          ]
        }
      ]
    }
  ]
}